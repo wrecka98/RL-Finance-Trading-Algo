{
 "cells": [
  {
   "cell_type": "code",
   "execution_count": 1,
   "id": "8c35ce3a-226c-4b7a-b3c5-3879b6c7e7e9",
   "metadata": {
    "tags": []
   },
   "outputs": [
    {
     "name": "stdout",
     "output_type": "stream",
     "text": [
      "Defaulting to user installation because normal site-packages is not writeable\n",
      "Collecting erl\n",
      "  Using cached erl-0.0.0-py3-none-any.whl.metadata (299 bytes)\n",
      "Using cached erl-0.0.0-py3-none-any.whl (979 bytes)\n",
      "Installing collected packages: erl\n",
      "Successfully installed erl-0.0.0\n"
     ]
    }
   ],
   "source": [
    "!pip3 install erl --upgrade"
   ]
  },
  {
   "cell_type": "code",
   "execution_count": null,
   "id": "c0017cc4-85c6-42b3-a3ee-5c95e7a1e0ad",
   "metadata": {},
   "outputs": [],
   "source": []
  }
 ],
 "metadata": {
  "kernelspec": {
   "display_name": "Python",
   "language": "python",
   "name": "python3"
  },
  "language_info": {
   "codemirror_mode": {
    "name": "ipython",
    "version": 3
   },
   "file_extension": ".py",
   "mimetype": "text/x-python",
   "name": "python",
   "nbconvert_exporter": "python",
   "pygments_lexer": "ipython3",
   "version": "3.10.12"
  }
 },
 "nbformat": 4,
 "nbformat_minor": 5
}
