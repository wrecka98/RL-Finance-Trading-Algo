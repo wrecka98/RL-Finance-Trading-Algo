{
 "cells": [
  {
   "cell_type": "code",
   "execution_count": 1,
   "id": "40fd1094",
   "metadata": {},
   "outputs": [],
   "source": [
    "# !pip install yfinance"
   ]
  },
  {
   "cell_type": "code",
   "execution_count": 2,
   "id": "434b06ca",
   "metadata": {},
   "outputs": [
    {
     "ename": "ModuleNotFoundError",
     "evalue": "No module named 'yfinance'",
     "output_type": "error",
     "traceback": [
      "\u001b[1;31m---------------------------------------------------------------------------\u001b[0m",
      "\u001b[1;31mModuleNotFoundError\u001b[0m                       Traceback (most recent call last)",
      "Cell \u001b[1;32mIn[2], line 1\u001b[0m\n\u001b[1;32m----> 1\u001b[0m \u001b[38;5;28;01mimport\u001b[39;00m \u001b[38;5;21;01myfinance\u001b[39;00m \u001b[38;5;28;01mas\u001b[39;00m \u001b[38;5;21;01myf\u001b[39;00m\n\u001b[0;32m      2\u001b[0m \u001b[38;5;28;01mimport\u001b[39;00m \u001b[38;5;21;01mnumpy\u001b[39;00m \u001b[38;5;28;01mas\u001b[39;00m \u001b[38;5;21;01mnp\u001b[39;00m\n\u001b[0;32m      4\u001b[0m \u001b[38;5;28;01mdef\u001b[39;00m \u001b[38;5;21mgenerate_state_data_from_yfinance_dates\u001b[39m(ticker\u001b[38;5;241m=\u001b[39m\u001b[38;5;124m\"\u001b[39m\u001b[38;5;124mSHELL\u001b[39m\u001b[38;5;124m\"\u001b[39m, start\u001b[38;5;241m=\u001b[39m\u001b[38;5;124m\"\u001b[39m\u001b[38;5;124m2023-01-01\u001b[39m\u001b[38;5;124m\"\u001b[39m, end\u001b[38;5;241m=\u001b[39m\u001b[38;5;124m\"\u001b[39m\u001b[38;5;124m2023-04-01\u001b[39m\u001b[38;5;124m\"\u001b[39m, window_size\u001b[38;5;241m=\u001b[39m\u001b[38;5;241m10\u001b[39m):\n",
      "\u001b[1;31mModuleNotFoundError\u001b[0m: No module named 'yfinance'"
     ]
    }
   ],
   "source": [
    "import yfinance as yf\n",
    "import numpy as np\n",
    "\n",
    "def generate_state_data_from_yfinance_dates(ticker=\"SHELL\", start=\"2023-01-01\", end=\"2023-04-01\", window_size=10):\n",
    "    \"\"\"\n",
    "    Gathers stock data between two dates and constructs state vectors.\n",
    "\n",
    "    Args:\n",
    "        ticker (str): Stock ticker symbol (e.g., \"AAPL\").\n",
    "        start (str): Start date in 'YYYY-MM-DD' format.\n",
    "        end (str): End date in 'YYYY-MM-DD' format.\n",
    "        window_size (int): Number of days to use for the moving average and highest price.\n",
    "\n",
    "    Returns:\n",
    "        states (list of lists): Each state = [current_price, highest_price, moving_avg, volume]\n",
    "    \"\"\"\n",
    "    df = yf.download(ticker, start=start, end=end, interval=\"1d\")\n",
    "\n",
    "    if df.empty or len(df) < window_size:\n",
    "        raise ValueError(\"Not enough data returned or invalid date range.\")\n",
    "\n",
    "    states = []\n",
    "\n",
    "    for t in range(len(df)):\n",
    "        current_price = df['Close'].iloc[t].item()\n",
    "        volume = df['Volume'].iloc[t].item()\n",
    "\n",
    "        # Lookback window for highest price and moving average\n",
    "        lookback = max(0, t - window_size + 1)\n",
    "        price_window = df['Close'].iloc[lookback:t+1]\n",
    "\n",
    "        highest_price = price_window.max().item()\n",
    "        moving_avg = price_window.mean().item()\n",
    "\n",
    "        # State vector\n",
    "        state = [current_price, highest_price, moving_avg, volume]\n",
    "        states.append(state)\n",
    "\n",
    "    return states\n",
    "\n",
    "# Example usage\n",
    "states = generate_state_data_from_yfinance_dates(\n",
    "    ticker=\"SHEL\",\n",
    "    start=\"2023-01-01\",\n",
    "    end=\"2023-04-01\",\n",
    "    window_size=10\n",
    ")\n",
    "\n",
    "print(\"First 5 states:\")\n",
    "for s in states[:5]:\n",
    "    print(s)\n"
   ]
  },
  {
   "cell_type": "code",
   "execution_count": null,
   "id": "7fb2e06a",
   "metadata": {},
   "outputs": [
    {
     "name": "stderr",
     "output_type": "stream",
     "text": [
      "[*********************100%***********************]  1 of 1 completed"
     ]
    },
    {
     "name": "stdout",
     "output_type": "stream",
     "text": [
      "First 5 states:\n",
      "[369.257080078125, 369.257080078125, 369.257080078125, 74850700]\n",
      "[372.1078796386719, 372.1078796386719, 370.68247985839844, 85934100]\n",
      "[367.86077880859375, 372.1078796386719, 369.7419128417969, 76970500]\n",
      "[376.29656982421875, 376.29656982421875, 371.38057708740234, 104189600]\n",
      "[376.0832824707031, 376.29656982421875, 372.3211181640625, 73978100]\n"
     ]
    },
    {
     "name": "stderr",
     "output_type": "stream",
     "text": [
      "\n"
     ]
    }
   ],
   "source": [
    "states_SP = generate_state_data_from_yfinance_dates(\n",
    "    ticker=\"SPY\",\n",
    "    start=\"2023-01-01\",\n",
    "    end=\"2023-04-01\",\n",
    "    window_size=10\n",
    ")\n",
    "\n",
    "print(\"First 5 states:\")\n",
    "for s in states_SP[:5]:\n",
    "    print(s)"
   ]
  },
  {
   "cell_type": "code",
   "execution_count": null,
   "id": "50bbd320",
   "metadata": {},
   "outputs": [],
   "source": []
  }
 ],
 "metadata": {
  "kernelspec": {
   "display_name": "base",
   "language": "python",
   "name": "python3"
  },
  "language_info": {
   "codemirror_mode": {
    "name": "ipython",
    "version": 3
   },
   "file_extension": ".py",
   "mimetype": "text/x-python",
   "name": "python",
   "nbconvert_exporter": "python",
   "pygments_lexer": "ipython3",
   "version": "3.12.7"
  }
 },
 "nbformat": 4,
 "nbformat_minor": 5
}
