{
 "cells": [
  {
   "cell_type": "code",
   "execution_count": 3,
   "id": "40fd1094",
   "metadata": {},
   "outputs": [],
   "source": [
    "# !pip install yfinance"
   ]
  },
  {
   "cell_type": "code",
   "execution_count": 13,
   "id": "434b06ca",
   "metadata": {},
   "outputs": [
    {
     "name": "stderr",
     "output_type": "stream",
     "text": [
      "[*********************100%***********************]  1 of 1 completed"
     ]
    },
    {
     "name": "stdout",
     "output_type": "stream",
     "text": [
      "First 5 states:\n",
      "[50.594661712646484, 50.594661712646484, 50.594661712646484, 7766476]\n",
      "[50.097572326660156, 50.594661712646484, 50.34611701965332, 5712988]\n",
      "[50.142765045166016, 50.594661712646484, 50.278333028157554, 4266050]\n",
      "[51.74249267578125, 51.74249267578125, 50.64437294006348, 5845518]\n",
      "[52.48360061645508, 52.48360061645508, 51.0122184753418, 4939246]\n"
     ]
    },
    {
     "name": "stderr",
     "output_type": "stream",
     "text": [
      "\n"
     ]
    }
   ],
   "source": [
    "import yfinance as yf\n",
    "import numpy as np\n",
    "\n",
    "def generate_state_data_from_yfinance_dates(ticker=\"SHELL\", start=\"2023-01-01\", end=\"2023-04-01\", window_size=10):\n",
    "    \"\"\"\n",
    "    Gathers stock data between two dates and constructs state vectors.\n",
    "\n",
    "    Args:\n",
    "        ticker (str): Stock ticker symbol (e.g., \"AAPL\").\n",
    "        start (str): Start date in 'YYYY-MM-DD' format.\n",
    "        end (str): End date in 'YYYY-MM-DD' format.\n",
    "        window_size (int): Number of days to use for the moving average and highest price.\n",
    "\n",
    "    Returns:\n",
    "        states (list of lists): Each state = [current_price, highest_price, moving_avg, volume]\n",
    "    \"\"\"\n",
    "    df = yf.download(ticker, start=start, end=end, interval=\"1d\")\n",
    "\n",
    "    if df.empty or len(df) < window_size:\n",
    "        raise ValueError(\"Not enough data returned or invalid date range.\")\n",
    "\n",
    "    states = []\n",
    "\n",
    "    for t in range(len(df)):\n",
    "        current_price = df['Close'].iloc[t].item()\n",
    "        volume = df['Volume'].iloc[t].item()\n",
    "\n",
    "        # Lookback window for highest price and moving average\n",
    "        lookback = max(0, t - window_size + 1)\n",
    "        price_window = df['Close'].iloc[lookback:t+1]\n",
    "\n",
    "        highest_price = price_window.max().item()\n",
    "        moving_avg = price_window.mean().item()\n",
    "\n",
    "        # State vector\n",
    "        state = [current_price, highest_price, moving_avg, volume]\n",
    "        states.append(state)\n",
    "\n",
    "    return states\n",
    "\n",
    "# Example usage\n",
    "states = generate_state_data_from_yfinance_dates(\n",
    "    ticker=\"SHEL\",\n",
    "    start=\"2023-01-01\",\n",
    "    end=\"2023-04-01\",\n",
    "    window_size=10\n",
    ")\n",
    "\n",
    "print(\"First 5 states:\")\n",
    "for s in states[:5]:\n",
    "    print(s)\n"
   ]
  },
  {
   "cell_type": "code",
   "execution_count": null,
   "id": "7fb2e06a",
   "metadata": {},
   "outputs": [
    {
     "name": "stderr",
     "output_type": "stream",
     "text": [
      "[*********************100%***********************]  1 of 1 completed\n"
     ]
    }
   ],
   "source": [
    "states_SP = generate_state_data_from_yfinance_dates(\n",
    "    ticker=\"SPY\",\n",
    "    start=\"2023-01-01\",\n",
    "    end=\"2023-04-01\",\n",
    "    window_size=10\n",
    ")\n",
    "\n",
    "print(\"First 5 states:\")\n",
    "for s in states_SP[:5]:\n",
    "    print(s)"
   ]
  },
  {
   "cell_type": "code",
   "execution_count": null,
   "id": "50bbd320",
   "metadata": {},
   "outputs": [],
   "source": []
  }
 ],
 "metadata": {
  "kernelspec": {
   "display_name": "base",
   "language": "python",
   "name": "python3"
  },
  "language_info": {
   "codemirror_mode": {
    "name": "ipython",
    "version": 3
   },
   "file_extension": ".py",
   "mimetype": "text/x-python",
   "name": "python",
   "nbconvert_exporter": "python",
   "pygments_lexer": "ipython3",
   "version": "3.12.4"
  }
 },
 "nbformat": 4,
 "nbformat_minor": 5
}
